{
 "cells": [
  {
   "cell_type": "markdown",
   "metadata": {},
   "source": [
    "# Stable Diffusion 2.1"
   ]
  },
  {
   "cell_type": "code",
   "execution_count": null,
   "metadata": {},
   "outputs": [],
   "source": [
    "import torch\n",
    "import random\n",
    "from diffusers import StableDiffusionPipeline, DPMSolverMultistepScheduler\n",
    "\n",
    "# Static seed for reproducibility or turn on randomization\n",
    "RANDOM_SEED = 42\n",
    "RANDOMIZE_SEED = False\n",
    "\n",
    "# Check if we should use a static seed, if not randomize it\n",
    "if RANDOMIZE_SEED:\n",
    "    RANDOM_SEED = random.randint(0, 1000000000)\n",
    "    print(f\"Using static seed: {RANDOM_SEED}\")\n",
    "\n",
    "# Device setup: Try to use xpu, fallback to cuda, then cpu\n",
    "device = \"xpu\" if torch.xpu.is_available() else \"cpu\"\n",
    "print(f\"Using device: {device}\")\n",
    "\n",
    "# User-definable parameters with defaults\n",
    "parameters = {\n",
    "    \"prompt\": \"Hyperrealistic. A beautiful cyberpunk woman in a futuristic city, surrounded by neon lights and rain. The background features towering skyscrapers with vibrant neon signs, futuristic vehicles, and wet streets reflecting the city lights. The atmosphere is moody with a dark, rainy night, creating a cinematic, sci-fi look.\",\n",
    "    \"negative_prompt\": \"Low quality, blurry, unrealistic, poorly lit, lack of detail, no futuristic elements, unattractive, low-resolution, no rain, no neon lights, no cyberpunk elements.\",\n",
    "    \"num_inference_steps\": 50,  # Number of denoising steps\n",
    "    \"guidance_scale\": 14.0,  # Adherence to prompt\n",
    "    \"width\": 512,  # Image width\n",
    "    \"height\": 512,  # Image height\n",
    "    \"seed\": RANDOM_SEED,  # Seed for reproducibility\n",
    "    \"device\": device,  # Device for computation\n",
    "    \"use_amp\": True,  # Automatic mixed precision\n",
    "}\n",
    "\n",
    "# Disable gradients since we are not training\n",
    "torch.set_grad_enabled(False)\n",
    "\n",
    "# Configure random seed\n",
    "generator = torch.manual_seed(parameters[\"seed\"])\n",
    "\n",
    "# Load the pipeline\n",
    "pipe = StableDiffusionPipeline.from_pretrained(\n",
    "    \"stabilityai/stable-diffusion-2-1\", \n",
    "    torch_dtype=torch.float32 if parameters[\"device\"] == \"cpu\" else torch.float16\n",
    ")\n",
    "\n",
    "# Load and set the DPM++ 2M scheduler\n",
    "pipe.scheduler = DPMSolverMultistepScheduler.from_pretrained(\n",
    "    \"stabilityai/stable-diffusion-2-1\", \n",
    "    subfolder=\"scheduler\"\n",
    ")\n",
    "\n",
    "# Move pipeline to the desired device\n",
    "pipe = pipe.to(parameters[\"device\"])\n",
    "\n",
    "# Generate the image\n",
    "with torch.autocast(parameters[\"device\"]) if parameters[\"use_amp\"] else torch.no_grad():\n",
    "    image = pipe(\n",
    "        prompt=parameters[\"prompt\"],\n",
    "        negative_prompt=parameters[\"negative_prompt\"],\n",
    "        num_inference_steps=parameters[\"num_inference_steps\"],\n",
    "        guidance_scale=parameters[\"guidance_scale\"],\n",
    "        height=parameters[\"height\"],\n",
    "        width=parameters[\"width\"],\n",
    "        generator=generator,\n",
    "    ).images[0]\n",
    "\n",
    "# Display the image\n",
    "image"
   ]
  }
 ],
 "metadata": {
  "kernelspec": {
   "display_name": "xpu",
   "language": "python",
   "name": "python3"
  },
  "language_info": {
   "codemirror_mode": {
    "name": "ipython",
    "version": 3
   },
   "file_extension": ".py",
   "mimetype": "text/x-python",
   "name": "python",
   "nbconvert_exporter": "python",
   "pygments_lexer": "ipython3",
   "version": "3.12.8"
  }
 },
 "nbformat": 4,
 "nbformat_minor": 2
}
